{
 "cells": [
  {
   "cell_type": "code",
   "execution_count": 1,
   "id": "8c0ee423",
   "metadata": {},
   "outputs": [],
   "source": [
    "import pandas as pd\n",
    "import nfl_data_py as nfl\n",
    "import bar_chart_race as bcr\n",
    "import warnings\n",
    "warnings.simplefilter('ignore')"
   ]
  },
  {
   "cell_type": "code",
   "execution_count": 2,
   "id": "9e72436c",
   "metadata": {},
   "outputs": [
    {
     "name": "stdout",
     "output_type": "stream",
     "text": [
      "2021 done.\n",
      "Downcasting floats.\n"
     ]
    }
   ],
   "source": [
    "df = nfl.import_pbp_data(years=[2021])\n",
    "df_weekly = df.groupby(['rusher_id','rusher','week'])['yards_gained'].sum().reset_index()\n",
    "df_weekly = df_weekly[df_weekly['week'] < 19]\n",
    "df_weekly = df_weekly.pivot_table(values = 'yards_gained',index = ['week'], columns = 'rusher')\n",
    "df_weekly.fillna(0, inplace=True)\n",
    "df_weekly.iloc[:, 0:-1] = df_weekly.iloc[:, 0:-1].cumsum()\n",
    "top_rushers = set()\n",
    "for index, row in df_weekly.iterrows():\n",
    "    top_rushers |= set(row[row > 0].sort_values(ascending=False).head(10).index)\n",
    "df_weekly = df_weekly[top_rushers]"
   ]
  },
  {
   "cell_type": "code",
   "execution_count": 3,
   "id": "2fd9e29b",
   "metadata": {},
   "outputs": [
    {
     "ename": "Exception",
     "evalue": "You do not have ffmpeg installed on your machine. Download\n                            ffmpeg from here: https://www.ffmpeg.org/download.html.\n                            \n                            Matplotlib's original error message below:\n\n                            Requested MovieWriter (ffmpeg) not available\n                            ",
     "output_type": "error",
     "traceback": [
      "\u001b[1;31m---------------------------------------------------------------------------\u001b[0m",
      "\u001b[1;31mRuntimeError\u001b[0m                              Traceback (most recent call last)",
      "File \u001b[1;32m~\\OneDrive\\Desktop\\Data Pros\\visualizations\\venv\\lib\\site-packages\\bar_chart_race\\_make_chart.py:429\u001b[0m, in \u001b[0;36m_BarChartRace.make_animation\u001b[1;34m(self)\u001b[0m\n\u001b[0;32m    428\u001b[0m \u001b[38;5;28;01mif\u001b[39;00m \u001b[38;5;28mself\u001b[39m\u001b[38;5;241m.\u001b[39mhtml:\n\u001b[1;32m--> 429\u001b[0m     ret_val \u001b[38;5;241m=\u001b[39m \u001b[43manim\u001b[49m\u001b[38;5;241;43m.\u001b[39;49m\u001b[43mto_html5_video\u001b[49m\u001b[43m(\u001b[49m\u001b[43m)\u001b[49m\n\u001b[0;32m    430\u001b[0m     \u001b[38;5;28;01mtry\u001b[39;00m:\n",
      "File \u001b[1;32m~\\OneDrive\\Desktop\\Data Pros\\visualizations\\venv\\lib\\site-packages\\matplotlib\\animation.py:1262\u001b[0m, in \u001b[0;36mAnimation.to_html5_video\u001b[1;34m(self, embed_limit)\u001b[0m\n\u001b[0;32m   1260\u001b[0m \u001b[38;5;66;03m# We create a writer manually so that we can get the\u001b[39;00m\n\u001b[0;32m   1261\u001b[0m \u001b[38;5;66;03m# appropriate size for the tag\u001b[39;00m\n\u001b[1;32m-> 1262\u001b[0m Writer \u001b[38;5;241m=\u001b[39m \u001b[43mwriters\u001b[49m\u001b[43m[\u001b[49m\u001b[43mmpl\u001b[49m\u001b[38;5;241;43m.\u001b[39;49m\u001b[43mrcParams\u001b[49m\u001b[43m[\u001b[49m\u001b[38;5;124;43m'\u001b[39;49m\u001b[38;5;124;43manimation.writer\u001b[39;49m\u001b[38;5;124;43m'\u001b[39;49m\u001b[43m]\u001b[49m\u001b[43m]\u001b[49m\n\u001b[0;32m   1263\u001b[0m writer \u001b[38;5;241m=\u001b[39m Writer(codec\u001b[38;5;241m=\u001b[39m\u001b[38;5;124m'\u001b[39m\u001b[38;5;124mh264\u001b[39m\u001b[38;5;124m'\u001b[39m,\n\u001b[0;32m   1264\u001b[0m                 bitrate\u001b[38;5;241m=\u001b[39mmpl\u001b[38;5;241m.\u001b[39mrcParams[\u001b[38;5;124m'\u001b[39m\u001b[38;5;124manimation.bitrate\u001b[39m\u001b[38;5;124m'\u001b[39m],\n\u001b[0;32m   1265\u001b[0m                 fps\u001b[38;5;241m=\u001b[39m\u001b[38;5;241m1000.\u001b[39m \u001b[38;5;241m/\u001b[39m \u001b[38;5;28mself\u001b[39m\u001b[38;5;241m.\u001b[39m_interval)\n",
      "File \u001b[1;32m~\\OneDrive\\Desktop\\Data Pros\\visualizations\\venv\\lib\\site-packages\\matplotlib\\animation.py:148\u001b[0m, in \u001b[0;36mMovieWriterRegistry.__getitem__\u001b[1;34m(self, name)\u001b[0m\n\u001b[0;32m    147\u001b[0m     \u001b[38;5;28;01mreturn\u001b[39;00m \u001b[38;5;28mself\u001b[39m\u001b[38;5;241m.\u001b[39m_registered[name]\n\u001b[1;32m--> 148\u001b[0m \u001b[38;5;28;01mraise\u001b[39;00m \u001b[38;5;167;01mRuntimeError\u001b[39;00m(\u001b[38;5;124mf\u001b[39m\u001b[38;5;124m\"\u001b[39m\u001b[38;5;124mRequested MovieWriter (\u001b[39m\u001b[38;5;132;01m{\u001b[39;00mname\u001b[38;5;132;01m}\u001b[39;00m\u001b[38;5;124m) not available\u001b[39m\u001b[38;5;124m\"\u001b[39m)\n",
      "\u001b[1;31mRuntimeError\u001b[0m: Requested MovieWriter (ffmpeg) not available",
      "\nDuring handling of the above exception, another exception occurred:\n",
      "\u001b[1;31mException\u001b[0m                                 Traceback (most recent call last)",
      "Cell \u001b[1;32mIn [3], line 3\u001b[0m\n\u001b[0;32m      1\u001b[0m df_weekly\u001b[38;5;241m.\u001b[39mindex \u001b[38;5;241m=\u001b[39m \u001b[38;5;124m'\u001b[39m\u001b[38;5;124mWeek \u001b[39m\u001b[38;5;124m'\u001b[39m \u001b[38;5;241m+\u001b[39m df_weekly\u001b[38;5;241m.\u001b[39mindex\u001b[38;5;241m.\u001b[39mastype(\u001b[38;5;28mstr\u001b[39m)\n\u001b[1;32m----> 3\u001b[0m \u001b[43mbcr\u001b[49m\u001b[38;5;241;43m.\u001b[39;49m\u001b[43mbar_chart_race\u001b[49m\u001b[43m(\u001b[49m\u001b[43mdf\u001b[49m\u001b[38;5;241;43m=\u001b[39;49m\u001b[43mdf_weekly\u001b[49m\u001b[43m,\u001b[49m\u001b[43m \u001b[49m\n\u001b[0;32m      4\u001b[0m \u001b[43m                   \u001b[49m\u001b[43mn_bars\u001b[49m\u001b[38;5;241;43m=\u001b[39;49m\u001b[38;5;241;43m15\u001b[39;49m\u001b[43m,\u001b[49m\u001b[43m \u001b[49m\n\u001b[0;32m      5\u001b[0m \u001b[43m                   \u001b[49m\u001b[43msort\u001b[49m\u001b[38;5;241;43m=\u001b[39;49m\u001b[38;5;124;43m'\u001b[39;49m\u001b[38;5;124;43mdesc\u001b[39;49m\u001b[38;5;124;43m'\u001b[39;49m\u001b[43m,\u001b[49m\n\u001b[0;32m      6\u001b[0m \u001b[43m                   \u001b[49m\u001b[43mtitle\u001b[49m\u001b[38;5;241;43m=\u001b[39;49m\u001b[38;5;124;43m'\u001b[39;49m\u001b[38;5;124;43m2021 Rushing Leaders by Week\u001b[39;49m\u001b[38;5;124;43m'\u001b[39;49m\u001b[43m,\u001b[49m\n\u001b[0;32m      7\u001b[0m \u001b[43m                   \u001b[49m\u001b[43mperiod_length\u001b[49m\u001b[38;5;241;43m=\u001b[39;49m\u001b[38;5;241;43m1000\u001b[39;49m\u001b[43m,\u001b[49m\n\u001b[0;32m      8\u001b[0m \u001b[43m                   \u001b[49m\u001b[43minterpolate_period\u001b[49m\u001b[38;5;241;43m=\u001b[39;49m\u001b[38;5;28;43;01mFalse\u001b[39;49;00m\u001b[43m,\u001b[49m\n\u001b[0;32m      9\u001b[0m \u001b[43m                   \u001b[49m\u001b[43msteps_per_period\u001b[49m\u001b[38;5;241;43m=\u001b[39;49m\u001b[38;5;241;43m10\u001b[39;49m\u001b[43m,\u001b[49m\n\u001b[0;32m     10\u001b[0m \u001b[43m                   \u001b[49m\u001b[43mfixed_max\u001b[49m\u001b[38;5;241;43m=\u001b[39;49m\u001b[38;5;28;43;01mTrue\u001b[39;49;00m\u001b[43m)\u001b[49m\n",
      "File \u001b[1;32m~\\OneDrive\\Desktop\\Data Pros\\visualizations\\venv\\lib\\site-packages\\bar_chart_race\\_make_chart.py:784\u001b[0m, in \u001b[0;36mbar_chart_race\u001b[1;34m(df, filename, orientation, sort, n_bars, fixed_order, fixed_max, steps_per_period, period_length, interpolate_period, label_bars, bar_size, period_label, period_fmt, period_summary_func, perpendicular_bar_func, figsize, cmap, title, title_size, bar_label_size, tick_label_size, shared_fontdict, scale, writer, fig, dpi, bar_kwargs, filter_column_colors)\u001b[0m\n\u001b[0;32m    462\u001b[0m \u001b[38;5;124;03m'''\u001b[39;00m\n\u001b[0;32m    463\u001b[0m \u001b[38;5;124;03mCreate an animated bar chart race using matplotlib. Data must be in \u001b[39;00m\n\u001b[0;32m    464\u001b[0m \u001b[38;5;124;03m'wide' format where each row represents a single time period and each \u001b[39;00m\n\u001b[1;32m   (...)\u001b[0m\n\u001b[0;32m    777\u001b[0m \u001b[38;5;124;03mThese sizes are relative to plt.rcParams['font.size'].\u001b[39;00m\n\u001b[0;32m    778\u001b[0m \u001b[38;5;124;03m'''\u001b[39;00m\n\u001b[0;32m    779\u001b[0m bcr \u001b[38;5;241m=\u001b[39m _BarChartRace(df, filename, orientation, sort, n_bars, fixed_order, fixed_max,\n\u001b[0;32m    780\u001b[0m                     steps_per_period, period_length, interpolate_period, label_bars, bar_size, \n\u001b[0;32m    781\u001b[0m                     period_label, period_fmt, period_summary_func, perpendicular_bar_func, \n\u001b[0;32m    782\u001b[0m                     figsize, cmap, title, title_size, bar_label_size, tick_label_size, \n\u001b[0;32m    783\u001b[0m                     shared_fontdict, scale, writer, fig, dpi, bar_kwargs, filter_column_colors)\n\u001b[1;32m--> 784\u001b[0m \u001b[38;5;28;01mreturn\u001b[39;00m \u001b[43mbcr\u001b[49m\u001b[38;5;241;43m.\u001b[39;49m\u001b[43mmake_animation\u001b[49m\u001b[43m(\u001b[49m\u001b[43m)\u001b[49m\n",
      "File \u001b[1;32m~\\OneDrive\\Desktop\\Data Pros\\visualizations\\venv\\lib\\site-packages\\bar_chart_race\\_make_chart.py:447\u001b[0m, in \u001b[0;36m_BarChartRace.make_animation\u001b[1;34m(self)\u001b[0m\n\u001b[0;32m    445\u001b[0m     \u001b[38;5;28;01melse\u001b[39;00m:\n\u001b[0;32m    446\u001b[0m         message \u001b[38;5;241m=\u001b[39m \u001b[38;5;28mstr\u001b[39m(e)\n\u001b[1;32m--> 447\u001b[0m     \u001b[38;5;28;01mraise\u001b[39;00m \u001b[38;5;167;01mException\u001b[39;00m(message)\n\u001b[0;32m    448\u001b[0m \u001b[38;5;28;01mfinally\u001b[39;00m:\n\u001b[0;32m    449\u001b[0m     plt\u001b[38;5;241m.\u001b[39mrcParams \u001b[38;5;241m=\u001b[39m \u001b[38;5;28mself\u001b[39m\u001b[38;5;241m.\u001b[39morig_rcParams\n",
      "\u001b[1;31mException\u001b[0m: You do not have ffmpeg installed on your machine. Download\n                            ffmpeg from here: https://www.ffmpeg.org/download.html.\n                            \n                            Matplotlib's original error message below:\n\n                            Requested MovieWriter (ffmpeg) not available\n                            "
     ]
    }
   ],
   "source": [
    "df_weekly.index = 'Week ' + df_weekly.index.astype(str)\n",
    "\n",
    "bcr.bar_chart_race(df=df_weekly, \n",
    "                   n_bars=15, \n",
    "                   sort='desc',\n",
    "                   title='2021 Rushing Leaders by Week',\n",
    "                   period_length=1000,\n",
    "                   interpolate_period=False,\n",
    "                   steps_per_period=10,\n",
    "                   fixed_max=True)"
   ]
  },
  {
   "cell_type": "code",
   "execution_count": null,
   "id": "6ee1e6e1",
   "metadata": {},
   "outputs": [],
   "source": []
  }
 ],
 "metadata": {
  "kernelspec": {
   "display_name": "Python 3 (ipykernel)",
   "language": "python",
   "name": "python3"
  },
  "language_info": {
   "codemirror_mode": {
    "name": "ipython",
    "version": 3
   },
   "file_extension": ".py",
   "mimetype": "text/x-python",
   "name": "python",
   "nbconvert_exporter": "python",
   "pygments_lexer": "ipython3",
   "version": "3.10.5"
  }
 },
 "nbformat": 4,
 "nbformat_minor": 5
}
